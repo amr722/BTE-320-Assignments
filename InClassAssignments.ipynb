{
  "nbformat": 4,
  "nbformat_minor": 0,
  "metadata": {
    "colab": {
      "provenance": [],
      "authorship_tag": "ABX9TyPVfkIq5wXXbkvLbk25ohyj",
      "include_colab_link": true
    },
    "kernelspec": {
      "name": "python3",
      "display_name": "Python 3"
    },
    "language_info": {
      "name": "python"
    }
  },
  "cells": [
    {
      "cell_type": "markdown",
      "metadata": {
        "id": "view-in-github",
        "colab_type": "text"
      },
      "source": [
        "<a href=\"https://colab.research.google.com/github/amr722/BTE-320-Assignments/blob/main/InClassAssignments.ipynb\" target=\"_parent\"><img src=\"https://colab.research.google.com/assets/colab-badge.svg\" alt=\"Open In Colab\"/></a>"
      ]
    },
    {
      "cell_type": "code",
      "source": [
        "pi= 3.14\n",
        "radius= float(input(\"Please provide the radius: \"))\n",
        "height= float(input(\"Please provide the height: \"))\n",
        "\n",
        "area= 2 * pi * radius ** 2 + 2 * pi * radius * height\n",
        "\n",
        "print(f\"Area of a cylinder: {area} sq.ft \")"
      ],
      "metadata": {
        "colab": {
          "base_uri": "https://localhost:8080/"
        },
        "id": "ttCBdipH_lRf",
        "outputId": "11db56ad-9862-49f7-dd03-cc61d11d613c"
      },
      "execution_count": null,
      "outputs": [
        {
          "output_type": "stream",
          "name": "stdout",
          "text": [
            "Please provide the radius: 5\n",
            "Please provide the height: 6\n",
            "Area of a cylinder: 345.4 sq.ft \n"
          ]
        }
      ]
    },
    {
      "cell_type": "code",
      "source": [
        "number_1 = float(input (\"Please enter first number:\"))\n",
        "number_2 = float(input (\"Please enter second number:\"))\n",
        "symbol = input (\"Please enter an operator: \")\n",
        "\n",
        "if symbol == \"+\":\n",
        "  print(f' {number_1} + {number_2} = {number_1+ number_2}')\n",
        "elif symbol == \"-\":\n",
        "  print(f'{number_1} - {number_2} = {number_1 - number_2}')\n",
        "elif symbol == \"*\":\n",
        "  print(f'{number_1} * {number_2} = {number_1 * number_2}')\n",
        "elif symbol == \"/\":\n",
        "   print(f'{number_1} / {number_2} = {number_1 / number_2}')\n",
        "elif symbol == \"//\":\n",
        "   print(f'{number_1} // {number_2} = {number_1 // number_2}')\n",
        "elif symbol == \"**\":\n",
        "   print(f'{number_1} ** {number_2} = {number_1 ** number_2}')\n",
        "elif symbol == \"%\":\n",
        "   print(f'{number_1} % {number_2} = {number_1 % number_2}')\n",
        "else:\n",
        "  print(\"invalid input\")"
      ],
      "metadata": {
        "colab": {
          "base_uri": "https://localhost:8080/"
        },
        "id": "nNRBhPNzr2Mg",
        "outputId": "0b9459e8-75f4-440c-c9a9-5cb3a0e402af"
      },
      "execution_count": 6,
      "outputs": [
        {
          "output_type": "stream",
          "name": "stdout",
          "text": [
            "Please enter first number:12\n",
            "Please enter second number:5\n",
            "Please enter an operator: %\n",
            "12.0 % 5.0 = 2.0\n"
          ]
        }
      ]
    }
  ]
}