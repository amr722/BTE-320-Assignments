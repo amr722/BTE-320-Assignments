{
  "nbformat": 4,
  "nbformat_minor": 0,
  "metadata": {
    "colab": {
      "provenance": [],
      "authorship_tag": "ABX9TyONMnpvZkAeuKSsLU1gAAz3",
      "include_colab_link": true
    },
    "kernelspec": {
      "name": "python3",
      "display_name": "Python 3"
    },
    "language_info": {
      "name": "python"
    }
  },
  "cells": [
    {
      "cell_type": "markdown",
      "metadata": {
        "id": "view-in-github",
        "colab_type": "text"
      },
      "source": [
        "<a href=\"https://colab.research.google.com/github/amr722/BTE-320-Assignments/blob/main/InClassAssignments.ipynb\" target=\"_parent\"><img src=\"https://colab.research.google.com/assets/colab-badge.svg\" alt=\"Open In Colab\"/></a>"
      ]
    },
    {
      "cell_type": "code",
      "source": [
        "pi= 3.14\n",
        "radius= float(input(\"Please provide the radius: \"))\n",
        "height= float(input(\"Please provide the height: \"))\n",
        "\n",
        "area= 2 * pi * radius ** 2 + 2 * pi * radius * height\n",
        "\n",
        "print(f\"Area of a cylinder: {area} sq.ft \")"
      ],
      "metadata": {
        "colab": {
          "base_uri": "https://localhost:8080/"
        },
        "id": "ttCBdipH_lRf",
        "outputId": "11db56ad-9862-49f7-dd03-cc61d11d613c"
      },
      "execution_count": null,
      "outputs": [
        {
          "output_type": "stream",
          "name": "stdout",
          "text": [
            "Please provide the radius: 5\n",
            "Please provide the height: 6\n",
            "Area of a cylinder: 345.4 sq.ft \n"
          ]
        }
      ]
    },
    {
      "cell_type": "code",
      "source": [
        "number_1 = float(input (\"Please enter first number:\"))\n",
        "number_2 = float(input (\"Please enter second number:\"))\n",
        "symbol = input (\"Please enter an operator: \")\n",
        "\n",
        "if symbol == \"+\":\n",
        "  print(f' {number_1} + {number_2} = {number_1+ number_2}')\n",
        "elif symbol == \"-\":\n",
        "  print(f'{number_1} - {number_2} = {number_1 - number_2}')\n",
        "elif symbol == \"*\":\n",
        "  print(f'{number_1} * {number_2} = {number_1 * number_2}')\n",
        "elif symbol == \"/\":\n",
        "   print(f'{number_1} / {number_2} = {number_1 / number_2}')\n",
        "elif symbol == \"//\":\n",
        "   print(f'{number_1} // {number_2} = {number_1 // number_2}')\n",
        "elif symbol == \"**\":\n",
        "   print(f'{number_1} ** {number_2} = {number_1 ** number_2}')\n",
        "elif symbol == \"%\":\n",
        "   print(f'{number_1} % {number_2} = {number_1 % number_2}')\n",
        "else:\n",
        "  print(\"invalid input\")"
      ],
      "metadata": {
        "colab": {
          "base_uri": "https://localhost:8080/"
        },
        "id": "nNRBhPNzr2Mg",
        "outputId": "0b9459e8-75f4-440c-c9a9-5cb3a0e402af"
      },
      "execution_count": null,
      "outputs": [
        {
          "output_type": "stream",
          "name": "stdout",
          "text": [
            "Please enter first number:12\n",
            "Please enter second number:5\n",
            "Please enter an operator: %\n",
            "12.0 % 5.0 = 2.0\n"
          ]
        }
      ]
    },
    {
      "cell_type": "code",
      "source": [
        "for numberHours in range (1,9):\n",
        "  fee = 5 + 2.5 * numberHours\n",
        "  if fee < 10:\n",
        "    fee = 10.0\n",
        "  elif fee >20:\n",
        "    fee = 20.0`\n",
        "  print(numberHours, fee)"
      ],
      "metadata": {
        "colab": {
          "base_uri": "https://localhost:8080/"
        },
        "id": "RPGhFHrZbZDZ",
        "outputId": "3baa1168-ee1e-4511-b4a3-5201db66a7a5"
      },
      "execution_count": null,
      "outputs": [
        {
          "output_type": "stream",
          "name": "stdout",
          "text": [
            "1 10.0\n",
            "2 10.0\n",
            "3 12.5\n",
            "4 15.0\n",
            "5 17.5\n",
            "6 20.0\n",
            "7 20.0\n",
            "8 20.0\n"
          ]
        }
      ]
    },
    {
      "cell_type": "code",
      "source": [
        "for advertisingAmount in range (0, ):\n",
        "  numberAttendees = 20 + 2 * (advertisingAmount)^(1/2)\n",
        "  revenue= numberAttendees * 10\n",
        "  profit = revenue - 200 - advertisingAmount\n",
        "  if numberAttendees<=20:\n",
        "    profit= revenue-200\n",
        "  elif numberAttendees>=20:\n",
        "    profit= revenue - 200 - advertisingAmount\n",
        "  print( advertisingAmount, profit)"
      ],
      "metadata": {
        "id": "2RqX0kimdqqT"
      },
      "execution_count": 1,
      "outputs": []
    },
    {
      "cell_type": "code",
      "source": [
        "for adMoney in range(0,201,25):\n",
        "  revenue = (20 + 2 * round((adMoney)** .5 ))*10\n",
        "  costs= 200 + adMoney\n",
        "  profit= revenue- costs\n",
        "  print(adMoney, profit)"
      ],
      "metadata": {
        "colab": {
          "base_uri": "https://localhost:8080/"
        },
        "id": "anRwZjQbgyl1",
        "outputId": "f0b96821-473f-48d4-e03e-04896855f925"
      },
      "execution_count": null,
      "outputs": [
        {
          "output_type": "stream",
          "name": "stdout",
          "text": [
            "0 0\n",
            "25 75\n",
            "50 90\n",
            "75 105\n",
            "100 100\n",
            "125 95\n",
            "150 90\n",
            "175 85\n",
            "200 80\n"
          ]
        }
      ]
    },
    {
      "cell_type": "code",
      "source": [
        "import random\n",
        "\n",
        "play = input(\"Do you want to play a game (yes/no)? \").capitalize()\n",
        "\n",
        "while play == \"Yes\":\n",
        "  player1= input (\"Player: Choose rock, paper, or scissors: \").capitalize()\n",
        "  player2 = random.choice([\"rock\" , \"paper\" , \"scissors\"]).capitalize()\n",
        "\n",
        "  print (f' Player chose {player1}; Computer chose {player2}')\n",
        "\n",
        "  if player1 == player2:\n",
        "    print(\"Draw\")\n",
        "  elif (player1 == \"rock\" and player2 == \"scissors\" ) or (player1 == \"scissors\" and player2 == \"paper\") or (player1 == \"paper\" and player2 == \"rock\"):\n",
        "    print (\"Player wins! \")\n",
        "  else:\n",
        "    print(\"Computer wins!\")\n",
        "\n",
        "  play = input (\"Do you want to play a game (yes/no)? \").capitalize()\n",
        "print(\"Good day...\")"
      ],
      "metadata": {
        "id": "WMwLvRqEMQyZ"
      },
      "execution_count": null,
      "outputs": []
    },
    {
      "cell_type": "code",
      "source": [
        "lst = []\n",
        "\n",
        "num= float(input(\"Please enter a number: \"))\n",
        "\n",
        "while num != 0.0:\n",
        "  lst.append(num)\n",
        "  num= float(input(\"Please enter a number: \"))\n",
        "lst.sort(reverse=True)\n",
        "print(lst)"
      ],
      "metadata": {
        "colab": {
          "base_uri": "https://localhost:8080/"
        },
        "id": "Ehd0KY80PC0N",
        "outputId": "7f42a5f7-d481-4296-9dea-fc77cc348b6d"
      },
      "execution_count": null,
      "outputs": [
        {
          "output_type": "stream",
          "name": "stdout",
          "text": [
            "Please enter a number: 6\n",
            "Please enter a number: 4\n",
            "Please enter a number: 5\n",
            "Please enter a number: 7\n",
            "Please enter a number: 9\n",
            "Please enter a number: 0\n",
            "[9.0, 7.0, 6.0, 5.0, 4.0]\n"
          ]
        }
      ]
    },
    {
      "cell_type": "code",
      "source": [
        "months= {}\n",
        "\n",
        "names= [\"Jan\", \"Feb\", \"Mar\", \"Apr\", \"May\", \"Jun\", \"Jul\", \"Aug\", \"Sep\", \"Oct\", \"Nov\", \"Dec\"]\n",
        "numbers=[ 1,2,3,4,5,6,7,8,9,10,11,12]\n",
        "\n",
        "for idx in range(len(numbers)):\n",
        "  months[numbers[idx]]= names[idx]\n",
        "months\n"
      ],
      "metadata": {
        "colab": {
          "base_uri": "https://localhost:8080/"
        },
        "id": "ehzn8XjuxxL4",
        "outputId": "7a2070d9-d419-4fab-bf38-86bf76c8c091"
      },
      "execution_count": null,
      "outputs": [
        {
          "output_type": "execute_result",
          "data": {
            "text/plain": [
              "{1: 'Jan',\n",
              " 2: 'Feb',\n",
              " 3: 'Mar',\n",
              " 4: 'Apr',\n",
              " 5: 'May',\n",
              " 6: 'Jun',\n",
              " 7: 'Jul',\n",
              " 8: 'Aug',\n",
              " 9: 'Sep',\n",
              " 10: 'Oct',\n",
              " 11: 'Nov',\n",
              " 12: 'Dec'}"
            ]
          },
          "metadata": {},
          "execution_count": 17
        }
      ]
    },
    {
      "cell_type": "code",
      "source": [
        "months= {}\n",
        "\n",
        "names= [\"Jan\", \"Feb\", \"Mar\", \"Apr\", \"May\", \"Jun\", \"Jul\", \"Aug\", \"Sep\", \"Oct\", \"Nov\", \"Dec\"]\n",
        "numbers=[ 1,2,3,4,5,6,7,8,9,10,11,12]\n",
        "\n",
        "cntr= 0\n",
        "for num in numbers:\n",
        "  months[num]= names[cntr]\n",
        "  cntr += 1\n",
        "months"
      ],
      "metadata": {
        "colab": {
          "base_uri": "https://localhost:8080/"
        },
        "id": "VpdGLoGo0OBP",
        "outputId": "d2ff3e37-606b-41b9-a427-14b01a1bc681"
      },
      "execution_count": null,
      "outputs": [
        {
          "output_type": "execute_result",
          "data": {
            "text/plain": [
              "{1: 'Jan',\n",
              " 2: 'Feb',\n",
              " 3: 'Mar',\n",
              " 4: 'Apr',\n",
              " 5: 'May',\n",
              " 6: 'Jun',\n",
              " 7: 'Jul',\n",
              " 8: 'Aug',\n",
              " 9: 'Sep',\n",
              " 10: 'Oct',\n",
              " 11: 'Nov',\n",
              " 12: 'Dec'}"
            ]
          },
          "metadata": {},
          "execution_count": 19
        }
      ]
    },
    {
      "cell_type": "code",
      "source": [
        "months= {}\n",
        "\n",
        "names= [\"Jan\", \"Feb\", \"Mar\", \"Apr\", \"May\", \"Jun\", \"Jul\", \"Aug\", \"Sep\", \"Oct\", \"Nov\", \"Dec\"]\n",
        "numbers=[ 1,2,3,4,5,6,7,8,9,10,11,12]\n",
        "\n",
        "for num in numbers:\n",
        "  months[num]= names[num-1]\n",
        "months"
      ],
      "metadata": {
        "colab": {
          "base_uri": "https://localhost:8080/"
        },
        "id": "8cg0M60d3Q6T",
        "outputId": "5476b587-57b6-425e-cea0-eb6b6fa7aecc"
      },
      "execution_count": null,
      "outputs": [
        {
          "output_type": "execute_result",
          "data": {
            "text/plain": [
              "{1: 'Jan',\n",
              " 2: 'Feb',\n",
              " 3: 'Mar',\n",
              " 4: 'Apr',\n",
              " 5: 'May',\n",
              " 6: 'Jun',\n",
              " 7: 'Jul',\n",
              " 8: 'Aug',\n",
              " 9: 'Sep',\n",
              " 10: 'Oct',\n",
              " 11: 'Nov',\n",
              " 12: 'Dec'}"
            ]
          },
          "metadata": {},
          "execution_count": 20
        }
      ]
    },
    {
      "cell_type": "code",
      "source": [
        "counts= {}\n",
        "\n",
        "while len(counts) <5:\n",
        "  key= input(\"Give a string: \")\n",
        "\n",
        "  if key not in counts:\n",
        "    counts[key]= 1\n",
        "  else:\n",
        "    counts[key] += 1\n",
        "counts\n",
        "\n"
      ],
      "metadata": {
        "colab": {
          "base_uri": "https://localhost:8080/"
        },
        "id": "cLyWsEVN4es8",
        "outputId": "261d4e74-414e-4f16-be4a-7c0377b300df"
      },
      "execution_count": null,
      "outputs": [
        {
          "name": "stdout",
          "output_type": "stream",
          "text": [
            "Give a string: a\n",
            "Give a string: b\n",
            "Give a string: a\n",
            "Give a string: c\n",
            "Give a string: a\n",
            "Give a string: b\n",
            "Give a string: b\n",
            "Give a string: d\n",
            "Give a string: e\n"
          ]
        },
        {
          "output_type": "execute_result",
          "data": {
            "text/plain": [
              "{'a': 3, 'b': 3, 'c': 1, 'd': 1, 'e': 1}"
            ]
          },
          "metadata": {},
          "execution_count": 21
        }
      ]
    },
    {
      "cell_type": "code",
      "source": [
        "def calcFee(hours):\n",
        "  x= input(\"Hours parked: \")\n",
        "  parking_fee= 2.5*x +5\n",
        "  print(f'Hours parked:{x}')\n",
        "  if x >0:\n",
        "    parking_fee= 2.5*x +5\n",
        "    print(parking_fee)\n",
        "  elif x>10:\n",
        "    print(\"No parking fee\")\n",
        "  else:\n",
        "    print(\"No parking fee\")\n"
      ],
      "metadata": {
        "id": "vSLPqnK6mjfG"
      },
      "execution_count": 20,
      "outputs": []
    },
    {
      "cell_type": "code",
      "source": [
        "def calcFee(hours):\n",
        "  fee= 5 + 2.5 *hours\n",
        "  if fee <10.0:\n",
        "    fee= 10.0\n",
        "  elif fee>= 20.0:\n",
        "    fee= 20.0\n",
        "  print(f'Fee: $ {fee}')\n",
        "\n",
        "def main():\n",
        "  numHours= int(input(\"Enter number of hours parked:\"))\n",
        "  fee=calcFee(numHours)\n",
        "main()"
      ],
      "metadata": {
        "colab": {
          "base_uri": "https://localhost:8080/"
        },
        "id": "HFzzavZhpX3p",
        "outputId": "8ebe539d-094a-4c7f-82a4-2fb459fd7c7c"
      },
      "execution_count": 25,
      "outputs": [
        {
          "output_type": "stream",
          "name": "stdout",
          "text": [
            "Program starts...\n",
            "Enter number of hours parked:3\n",
            "Fee: $ 12.5\n",
            "None\n"
          ]
        }
      ]
    }
  ]
}