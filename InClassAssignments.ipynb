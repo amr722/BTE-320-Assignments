{
  "nbformat": 4,
  "nbformat_minor": 0,
  "metadata": {
    "colab": {
      "provenance": [],
      "authorship_tag": "ABX9TyM7D8FNBg8hGHKICJJgQct8",
      "include_colab_link": true
    },
    "kernelspec": {
      "name": "python3",
      "display_name": "Python 3"
    },
    "language_info": {
      "name": "python"
    }
  },
  "cells": [
    {
      "cell_type": "markdown",
      "metadata": {
        "id": "view-in-github",
        "colab_type": "text"
      },
      "source": [
        "<a href=\"https://colab.research.google.com/github/amr722/BTE-320-Assignments/blob/main/InClassAssignments.ipynb\" target=\"_parent\"><img src=\"https://colab.research.google.com/assets/colab-badge.svg\" alt=\"Open In Colab\"/></a>"
      ]
    },
    {
      "cell_type": "code",
      "source": [
        "pi= 3.14\n",
        "radius= float(input(\"Please provide the radius: \"))\n",
        "height= float(input(\"Please provide the height: \"))\n",
        "\n",
        "area= 2 * pi * radius ** 2 + 2 * pi * radius * height\n",
        "\n",
        "print(f\"Area of a cylinder: {area} sq.ft \")"
      ],
      "metadata": {
        "colab": {
          "base_uri": "https://localhost:8080/"
        },
        "id": "ttCBdipH_lRf",
        "outputId": "11db56ad-9862-49f7-dd03-cc61d11d613c"
      },
      "execution_count": null,
      "outputs": [
        {
          "output_type": "stream",
          "name": "stdout",
          "text": [
            "Please provide the radius: 5\n",
            "Please provide the height: 6\n",
            "Area of a cylinder: 345.4 sq.ft \n"
          ]
        }
      ]
    },
    {
      "cell_type": "code",
      "source": [
        "number_1 = float(input (\"Please enter first number:\"))\n",
        "number_2 = float(input (\"Please enter second number:\"))\n",
        "symbol = input (\"Please enter an operator: \")\n",
        "\n",
        "if symbol == \"+\":\n",
        "  print(f' {number_1} + {number_2} = {number_1+ number_2}')\n",
        "elif symbol == \"-\":\n",
        "  print(f'{number_1} - {number_2} = {number_1 - number_2}')\n",
        "elif symbol == \"*\":\n",
        "  print(f'{number_1} * {number_2} = {number_1 * number_2}')\n",
        "elif symbol == \"/\":\n",
        "   print(f'{number_1} / {number_2} = {number_1 / number_2}')\n",
        "elif symbol == \"//\":\n",
        "   print(f'{number_1} // {number_2} = {number_1 // number_2}')\n",
        "elif symbol == \"**\":\n",
        "   print(f'{number_1} ** {number_2} = {number_1 ** number_2}')\n",
        "elif symbol == \"%\":\n",
        "   print(f'{number_1} % {number_2} = {number_1 % number_2}')\n",
        "else:\n",
        "  print(\"invalid input\")"
      ],
      "metadata": {
        "colab": {
          "base_uri": "https://localhost:8080/"
        },
        "id": "nNRBhPNzr2Mg",
        "outputId": "0b9459e8-75f4-440c-c9a9-5cb3a0e402af"
      },
      "execution_count": null,
      "outputs": [
        {
          "output_type": "stream",
          "name": "stdout",
          "text": [
            "Please enter first number:12\n",
            "Please enter second number:5\n",
            "Please enter an operator: %\n",
            "12.0 % 5.0 = 2.0\n"
          ]
        }
      ]
    },
    {
      "cell_type": "code",
      "source": [
        "for numberHours in range (1,9):\n",
        "  fee = 5 + 2.5 * numberHours\n",
        "  if fee < 10:\n",
        "    fee = 10.0\n",
        "  elif fee >20:\n",
        "    fee = 20.0`\n",
        "  print(numberHours, fee)"
      ],
      "metadata": {
        "colab": {
          "base_uri": "https://localhost:8080/"
        },
        "id": "RPGhFHrZbZDZ",
        "outputId": "3baa1168-ee1e-4511-b4a3-5201db66a7a5"
      },
      "execution_count": 28,
      "outputs": [
        {
          "output_type": "stream",
          "name": "stdout",
          "text": [
            "1 10.0\n",
            "2 10.0\n",
            "3 12.5\n",
            "4 15.0\n",
            "5 17.5\n",
            "6 20.0\n",
            "7 20.0\n",
            "8 20.0\n"
          ]
        }
      ]
    },
    {
      "cell_type": "code",
      "source": [
        "for advertisingAmount in range (0, ):\n",
        "  numberAttendees = 20 + 2 * (advertisingAmount)^(1/2)\n",
        "  revenue= numberAttendees * 10\n",
        "  profit = revenue - 200 - advertisingAmount\n",
        "  if numberAttendees<=20:\n",
        "    profit= revenue-200\n",
        "  elif numberAttendees>=20:\n",
        "    profit= revenue - 200 - advertisingAmount\n",
        "  print( advertisingAmount, profit)"
      ],
      "metadata": {
        "id": "2RqX0kimdqqT"
      },
      "execution_count": 35,
      "outputs": []
    },
    {
      "cell_type": "code",
      "source": [
        "for adMoney in range(0,201,25):\n",
        "  revenue = (20 + 2 * round((adMoney)** .5 ))*10\n",
        "  costs= 200 + adMoney\n",
        "  profit= revenue- costs\n",
        "  print(adMoney, profit)"
      ],
      "metadata": {
        "colab": {
          "base_uri": "https://localhost:8080/"
        },
        "id": "anRwZjQbgyl1",
        "outputId": "f0b96821-473f-48d4-e03e-04896855f925"
      },
      "execution_count": 37,
      "outputs": [
        {
          "output_type": "stream",
          "name": "stdout",
          "text": [
            "0 0\n",
            "25 75\n",
            "50 90\n",
            "75 105\n",
            "100 100\n",
            "125 95\n",
            "150 90\n",
            "175 85\n",
            "200 80\n"
          ]
        }
      ]
    }
  ]
}